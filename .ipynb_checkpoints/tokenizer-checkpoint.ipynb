{
 "cells": [
  {
   "cell_type": "code",
   "execution_count": null,
   "metadata": {},
   "outputs": [],
   "source": []
  },
  {
   "cell_type": "markdown",
   "metadata": {},
   "source": [
    "## Tokenization\n",
    "- Tokenization is breaking down text into smaller units, or \"tokens,\" which can be words, subwords, characters, or other meaningful elements.\n",
    "- It is used to convert text into a format that can be more easily analyzed or processed by machine learning models.\n",
    "In more detail:\n",
    "\n",
    "    - Word Tokenization: Splits text into individual words. For example, \"ChatGPT is helpful.\" becomes [\"ChatGPT\", \"is\", \"helpful\"].\n",
    "\n",
    "    - Subword Tokenization: Breaks down words into smaller units or subwords. This is useful for handling out-of-vocabulary words or complex terms. \n",
    "        For example, \"tokenization\" might be split into [\"token\", \"ization\"].\n",
    "\n",
    "    - Character Tokenization: Splits text into individual characters. For example, \"hello\" becomes [\"h\", \"e\", \"l\", \"l\", \"o\"].\n",
    "\n",
    "    - Sentence Tokenization: Splits text into sentences. For example, \"Hello. How are you?\" becomes [\"Hello.\", \"How are you?\"]."
   ]
  },
  {
   "cell_type": "markdown",
   "metadata": {},
   "source": [
    "## IN LLM's\n",
    "\n",
    "- Tokenization can pose problems for large language models (LLMs) by limiting vocabulary and causing issues with subword granularity.\n",
    "- Fixed vocabularies might miss some words, and breaking down words into smaller tokens can lead to loss of meaning.\n",
    "- Additionally, tokenization can increase the token count, potentially exceeding the model’s limits and requiring more resources.\n",
    "- It can also struggle with different languages and complex contexts, leading to inconsistent or less accurate text representation.\n",
    "- Improving tokenization techniques and model training can help address these challenges."
   ]
  },
  {
   "cell_type": "code",
   "execution_count": 2,
   "metadata": {},
   "outputs": [
    {
     "name": "stdout",
     "output_type": "stream",
     "text": [
      "Ｕｎｉｃｏｄｅ! 🅤🅝🅘🅒🅞🅓🅔‽ 🇺‌🇳‌🇮‌🇨‌🇴‌🇩‌🇪! 😄 The very name strikes fear and awe into the hearts of programmers worldwide. We all know we ought to “support Unicode” in our software (whatever that means—like using wchar_t for all the strings, right?). But Unicode can be abstruse, and diving into the thousand-page Unicode Standard plus its dozens of supplementary annexes, reports, and notes can be more than a little intimidating. I don’t blame programmers for still finding the whole thing mysterious, even 30 years after Unicode’s inception.\n"
     ]
    }
   ],
   "source": [
    "text = \"Ｕｎｉｃｏｄｅ! 🅤🅝🅘🅒🅞🅓🅔‽ 🇺‌🇳‌🇮‌🇨‌🇴‌🇩‌🇪! 😄 The very name strikes fear and awe into the hearts of programmers worldwide. We all know we ought to “support Unicode” in our software (whatever that means—like using wchar_t for all the strings, right?). But Unicode can be abstruse, and diving into the thousand-page Unicode Standard plus its dozens of supplementary annexes, reports, and notes can be more than a little intimidating. I don’t blame programmers for still finding the whole thing mysterious, even 30 years after Unicode’s inception.\"\n",
    "print(text)"
   ]
  },
  {
   "cell_type": "code",
   "execution_count": null,
   "metadata": {},
   "outputs": [],
   "source": []
  }
 ],
 "metadata": {
  "kernelspec": {
   "display_name": "cuda-gpt",
   "language": "python",
   "name": "cuda"
  },
  "language_info": {
   "codemirror_mode": {
    "name": "ipython",
    "version": 3
   },
   "file_extension": ".py",
   "mimetype": "text/x-python",
   "name": "python",
   "nbconvert_exporter": "python",
   "pygments_lexer": "ipython3",
   "version": "3.11.7"
  }
 },
 "nbformat": 4,
 "nbformat_minor": 4
}
